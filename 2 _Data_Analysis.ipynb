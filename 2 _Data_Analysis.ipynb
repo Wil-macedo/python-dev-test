{
 "cells": [
  {
   "cell_type": "markdown",
   "metadata": {},
   "source": [
    "Você tem um arquivo CSV contendo informações de vendas com as colunas: data, produto, quantidade, preco_unitario.\n",
    "\n",
    "Escreva um código que leia o arquivo e calcule o faturamento total por produto.\n",
    "Encontre o produto com maior e menor faturamento.\n",
    "\n",
    "***Neste caso, foi criado um arquivo .csv contendo informações sobre alguns produtos, e o código foi feito para a solução do problema proposto.***"
   ]
  },
  {
   "cell_type": "code",
   "execution_count": 2,
   "metadata": {},
   "outputs": [],
   "source": [
    "import pandas as pd\n",
    "import os"
   ]
  },
  {
   "cell_type": "code",
   "execution_count": null,
   "metadata": {},
   "outputs": [],
   "source": [
    "\n",
    "filePath = os.path.join(os.path.abspath(os.path.curdir), \"vendas.csv\")  # path relativo, desse modo roda em outra máquina.\n",
    "df = pd.read_csv(filePath)"
   ]
  },
  {
   "cell_type": "code",
   "execution_count": 4,
   "metadata": {},
   "outputs": [
    {
     "data": {
      "text/html": [
       "<div>\n",
       "<style scoped>\n",
       "    .dataframe tbody tr th:only-of-type {\n",
       "        vertical-align: middle;\n",
       "    }\n",
       "\n",
       "    .dataframe tbody tr th {\n",
       "        vertical-align: top;\n",
       "    }\n",
       "\n",
       "    .dataframe thead th {\n",
       "        text-align: right;\n",
       "    }\n",
       "</style>\n",
       "<table border=\"1\" class=\"dataframe\">\n",
       "  <thead>\n",
       "    <tr style=\"text-align: right;\">\n",
       "      <th></th>\n",
       "      <th>produto</th>\n",
       "      <th>quantidade</th>\n",
       "      <th>preco_unitario</th>\n",
       "      <th>total_vendido</th>\n",
       "    </tr>\n",
       "  </thead>\n",
       "  <tbody>\n",
       "    <tr>\n",
       "      <th>0</th>\n",
       "      <td>produto A</td>\n",
       "      <td>2</td>\n",
       "      <td>774.48</td>\n",
       "      <td>1548.96</td>\n",
       "    </tr>\n",
       "    <tr>\n",
       "      <th>1</th>\n",
       "      <td>produto B</td>\n",
       "      <td>5</td>\n",
       "      <td>1442.00</td>\n",
       "      <td>7210.00</td>\n",
       "    </tr>\n",
       "    <tr>\n",
       "      <th>2</th>\n",
       "      <td>produto B</td>\n",
       "      <td>5</td>\n",
       "      <td>1238.05</td>\n",
       "      <td>6190.25</td>\n",
       "    </tr>\n",
       "    <tr>\n",
       "      <th>3</th>\n",
       "      <td>produto C</td>\n",
       "      <td>1</td>\n",
       "      <td>4812.74</td>\n",
       "      <td>4812.74</td>\n",
       "    </tr>\n",
       "    <tr>\n",
       "      <th>4</th>\n",
       "      <td>produto B</td>\n",
       "      <td>2</td>\n",
       "      <td>2510.16</td>\n",
       "      <td>5020.32</td>\n",
       "    </tr>\n",
       "  </tbody>\n",
       "</table>\n",
       "</div>"
      ],
      "text/plain": [
       "     produto  quantidade  preco_unitario  total_vendido\n",
       "0  produto A           2          774.48        1548.96\n",
       "1  produto B           5         1442.00        7210.00\n",
       "2  produto B           5         1238.05        6190.25\n",
       "3  produto C           1         4812.74        4812.74\n",
       "4  produto B           2         2510.16        5020.32"
      ]
     },
     "execution_count": 4,
     "metadata": {},
     "output_type": "execute_result"
    }
   ],
   "source": [
    "df.drop(\"data\", axis=1, inplace=True)  # https://pandas.pydata.org/docs/reference/api/pandas.DataFrame.drop.html\n",
    "\n",
    "df[\"total_vendido\"] = df[\"quantidade\"] * df[\"preco_unitario\"]\n",
    "df.head()"
   ]
  },
  {
   "cell_type": "code",
   "execution_count": null,
   "metadata": {},
   "outputs": [
    {
     "data": {
      "text/plain": [
       "produto\n",
       "produto E    1556942.23\n",
       "produto C    1261444.54\n",
       "produto F     825703.64\n",
       "produto B     787263.42\n",
       "produto H     637268.08\n",
       "produto G     618840.52\n",
       "produto A     612245.91\n",
       "produto D     568449.32\n",
       "Name: total_vendido, dtype: float64"
      ]
     },
     "execution_count": 5,
     "metadata": {},
     "output_type": "execute_result"
    }
   ],
   "source": [
    "df_total_produto = df.groupby(\"produto\")[\"total_vendido\"].sum()  # https://pandas.pydata.org/docs/reference/api/pandas.DataFrame.groupby.html\n",
    "df_total_produto.sort_values(ascending=False)  # Ordenando descescente."
   ]
  },
  {
   "cell_type": "code",
   "execution_count": null,
   "metadata": {},
   "outputs": [
    {
     "name": "stdout",
     "output_type": "stream",
     "text": [
      "Produto com o MAIOR faturamento: produto E -> 1556942.23\n"
     ]
    }
   ],
   "source": [
    "idx = df_total_produto.idxmax()  # Máquina ID\n",
    "value = round(df_total_produto.max(), 2)  # Máximo valor, correspondente ao ID acima.\n",
    "print(f\"Produto com o MAIOR faturamento: {idx} -> {value}\")"
   ]
  },
  {
   "cell_type": "code",
   "execution_count": 7,
   "metadata": {},
   "outputs": [
    {
     "name": "stdout",
     "output_type": "stream",
     "text": [
      "Produto com o MENOR faturamento: produto D -> 568449.32\n"
     ]
    }
   ],
   "source": [
    "idx = df_total_produto.idxmin()\n",
    "value = round(df_total_produto.min(), 2)\n",
    "print(f\"Produto com o MENOR faturamento: {idx} -> {value}\")"
   ]
  }
 ],
 "metadata": {
  "kernelspec": {
   "display_name": "Python 3",
   "language": "python",
   "name": "python3"
  },
  "language_info": {
   "codemirror_mode": {
    "name": "ipython",
    "version": 3
   },
   "file_extension": ".py",
   "mimetype": "text/x-python",
   "name": "python",
   "nbconvert_exporter": "python",
   "pygments_lexer": "ipython3",
   "version": "3.9.2"
  }
 },
 "nbformat": 4,
 "nbformat_minor": 2
}
